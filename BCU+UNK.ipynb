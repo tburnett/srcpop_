{
 "cells": [
  {
   "cell_type": "code",
   "execution_count": 1,
   "id": "0942a56f-8f98-40b3-bbba-307f409905e0",
   "metadata": {},
   "outputs": [
    {
     "data": {
      "text/markdown": [
       "<font size=\"+3\"> BCU+UNK studies</font>"
      ],
      "text/plain": [
       "<pylib.ipynb_docgen.doc_formatter.<locals>.MimeBundleObject at 0x7fbe283391e0>"
      ]
     },
     "metadata": {},
     "output_type": "display_data"
    },
    {
     "data": {
      "text/markdown": [
       "<h5 style=\"text-align:right; margin-right:15px\"> 2024-10-18 14:11</h5>"
      ],
      "text/plain": [
       "<pylib.ipynb_docgen.doc_formatter.<locals>.MimeBundleObject at 0x7fbdba581ed0>"
      ]
     },
     "metadata": {},
     "output_type": "display_data"
    },
    {
     "data": {
      "text/markdown": [
       "# Data setup\n",
       "* Load source data from `files/dr4_2_class_3_features.csv'"
      ],
      "text/plain": [
       "<pylib.ipynb_docgen.doc_formatter.<locals>.MimeBundleObject at 0x7fbdba581f00>"
      ]
     },
     "metadata": {},
     "output_type": "display_data"
    },
    {
     "data": {
      "text/markdown": [
       "### Data selection cut: \"Ep<10 & variability<30\""
      ],
      "text/plain": [
       "<pylib.ipynb_docgen.doc_formatter.<locals>.MimeBundleObject at 0x7fbdba582ad0>"
      ]
     },
     "metadata": {},
     "output_type": "display_data"
    },
    {
     "data": {
      "text/html": [
       "<div style=\"margin-left: 25px\"><table border=\"1\" class=\"dataframe\">\n",
       "  <thead>\n",
       "    <tr style=\"text-align: right;\">\n",
       "      <th>association_class</th>\n",
       "      <th>blazar</th>\n",
       "      <th>pulsar</th>\n",
       "      <th>Gal</th>\n",
       "      <th>egal</th>\n",
       "      <th>bcu_unk</th>\n",
       "      <th>unID</th>\n",
       "    </tr>\n",
       "  </thead>\n",
       "  <tbody>\n",
       "    <tr>\n",
       "      <th>total</th>\n",
       "      <td>2283</td>\n",
       "      <td>316</td>\n",
       "      <td>219</td>\n",
       "      <td>88</td>\n",
       "      <td>1698</td>\n",
       "      <td>2205</td>\n",
       "    </tr>\n",
       "    <tr>\n",
       "      <th>selected</th>\n",
       "      <td>770</td>\n",
       "      <td>308</td>\n",
       "      <td>195</td>\n",
       "      <td>53</td>\n",
       "      <td>1043</td>\n",
       "      <td>1934</td>\n",
       "    </tr>\n",
       "    <tr>\n",
       "      <th>%</th>\n",
       "      <td>34</td>\n",
       "      <td>97</td>\n",
       "      <td>89</td>\n",
       "      <td>60</td>\n",
       "      <td>61</td>\n",
       "      <td>88</td>\n",
       "    </tr>\n",
       "  </tbody>\n",
       "</table></div>"
      ],
      "text/plain": [
       "<pylib.ipynb_docgen.doc_formatter.<locals>.MimeBundleObject at 0x7fbdba583580>"
      ]
     },
     "metadata": {},
     "output_type": "display_data"
    },
    {
     "data": {
      "text/markdown": [
       "# Create KDE functions instead of ML training\n",
       "\n",
       "* Features: sqrt_d, log_epeak, diffuse "
      ],
      "text/plain": [
       "<pylib.ipynb_docgen.doc_formatter.<locals>.MimeBundleObject at 0x7fbdba582a40>"
      ]
     },
     "metadata": {},
     "output_type": "display_data"
    },
    {
     "data": {
      "text/markdown": [
       "saved KDE setup to `files/kde_data.csv`"
      ],
      "text/plain": [
       "<pylib.ipynb_docgen.doc_formatter.<locals>.MimeBundleObject at 0x7fbdba583580>"
      ]
     },
     "metadata": {},
     "output_type": "display_data"
    },
    {
     "name": "stdout",
     "output_type": "stream",
     "text": [
      "Loaded Fermi 4FGL gll_psc_v32.fit: 7195 entries\n"
     ]
    },
    {
     "data": {
      "text/markdown": [
       "*  define ASSOC1 catalog id"
      ],
      "text/plain": [
       "<pylib.ipynb_docgen.doc_formatter.<locals>.MimeBundleObject at 0x7fbd8fbea9e0>"
      ]
     },
     "metadata": {},
     "output_type": "display_data"
    }
   ],
   "source": [
    "%reset -f\n",
    "%run pylib/kde_doc paper dark\n",
    "\n",
    "all_data = kde_setup(title='BCU+UNK studies').copy()\n",
    "all_data['bayes_prob'] = all_data.assoc_prob.apply(lambda x: 0.5 if pd.isna(x) else x )\n",
    "all_data['G']= all_data.diffuse # for convenience\n",
    "subgrp = all_data.groupby('subset')\n",
    "unid = subgrp.get_group('unID').copy()\n",
    "galfunc = GalFunctions(all_data)\n",
    "\n",
    "from pylib.catalogs import Fermi4FGL\n",
    "dr4 = Fermi4FGL()\n",
    "# add the LR prob and ASSOC1 to the table\n",
    "data_mask = np.isin(dr4.index,all_data.index) # since all_data is subset of dr4\n",
    "all_data['lr_prob'] = dr4.get_series('ASSOC_PROB_LR').astype(float)[data_mask]\n",
    "all_data['assoc1'] = list(map(lambda s: s.strip(), dr4.get_series('ASSOC1')[data_mask]))\n",
    "\n",
    "set_theme('dark');\n",
    "palette =['cyan', 'magenta', 'yellow'] if dark_mode else 'green red blue'.split()\n",
    "show(f\"\"\"*  define ASSOC1 catalog id\"\"\")\n",
    "def first_tok(s):\n",
    "    t = s.strip() \n",
    "    if len(t)==0: return ''\n",
    "    return t.split()[0]\n",
    "all_data['assoc_cat'] = all_data.assoc1.apply(first_tok)\n",
    "unk=all_data.groupby('class1').get_group('unk').copy()\n",
    "bcu=all_data.groupby('class1').get_group('bcu').copy()\n"
   ]
  },
  {
   "cell_type": "code",
   "execution_count": 2,
   "id": "aebded01-f2b9-4172-892a-45128f6eb086",
   "metadata": {},
   "outputs": [
    {
     "data": {
      "text/markdown": [
       "# BCU & UNK\n",
       "Can we learn anything about gevatar association probability?"
      ],
      "text/plain": [
       "<pylib.ipynb_docgen.doc_formatter.<locals>.MimeBundleObject at 0x7fbe281a2ef0>"
      ]
     },
     "metadata": {},
     "output_type": "display_data"
    },
    {
     "data": {
      "text/html": [
       "<div style=\"margin-left: 10px\"><a id=\"Figure_None\"/><figure style=\"margin-left: 10px\">   <img src=\"data:image/png;base64,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\"  > <br> </figure></div>"
      ],
      "text/plain": [
       "<pylib.ipynb_docgen.doc_formatter.<locals>.MimeBundleObject at 0x7fbd8fbea8c0>"
      ]
     },
     "metadata": {},
     "output_type": "display_data"
    },
    {
     "ename": "FileNotFoundError",
     "evalue": "[Errno 2] No such file or directory: 'figures/galacticity-dev/bayes_prob.png'",
     "output_type": "error",
     "traceback": [
      "\u001b[0;31m---------------------------------------------------------------------------\u001b[0m",
      "\u001b[0;31mFileNotFoundError\u001b[0m                         Traceback (most recent call last)",
      "Cell \u001b[0;32mIn[2], line 11\u001b[0m\n\u001b[1;32m      9\u001b[0m     ax\u001b[38;5;241m.\u001b[39mset(xlim\u001b[38;5;241m=\u001b[39m(\u001b[38;5;241m0\u001b[39m,\u001b[38;5;241m1\u001b[39m), xlabel\u001b[38;5;241m=\u001b[39m\u001b[38;5;124m'\u001b[39m\u001b[38;5;124mbayes_prob\u001b[39m\u001b[38;5;124m'\u001b[39m)\n\u001b[1;32m     10\u001b[0m     \u001b[38;5;28;01mreturn\u001b[39;00m fig\n\u001b[0;32m---> 11\u001b[0m \u001b[43mshow_fig\u001b[49m\u001b[43m(\u001b[49m\u001b[43mbayes_prob\u001b[49m\u001b[43m,\u001b[49m\u001b[43m \u001b[49m\u001b[43mall_data\u001b[49m\u001b[43m,\u001b[49m\u001b[43m \u001b[49m\u001b[43mfacecolor\u001b[49m\u001b[38;5;241;43m=\u001b[39;49m\u001b[38;5;124;43m'\u001b[39;49m\u001b[38;5;124;43mk\u001b[39;49m\u001b[38;5;124;43m'\u001b[39;49m\u001b[43m,\u001b[49m\u001b[43m \u001b[49m\u001b[43msave_to\u001b[49m\u001b[38;5;241;43m=\u001b[39;49m\u001b[38;5;124;43m'\u001b[39;49m\u001b[38;5;124;43mfigures/galacticity-dev/bayes_prob.png\u001b[39;49m\u001b[38;5;124;43m'\u001b[39;49m\u001b[43m)\u001b[49m\n",
      "File \u001b[0;32m/mnt/c/Users/thbur/onedrive/work/srcpop_/pylib/ipynb_docgen.py:827\u001b[0m, in \u001b[0;36mshow_fig\u001b[0;34m(fn, fignum, caption, format_kw, facecolor, save_to, *pars, **kwargs)\u001b[0m\n\u001b[1;32m    825\u001b[0m show( fig, fignum\u001b[38;5;241m=\u001b[39mfignum,  caption\u001b[38;5;241m=\u001b[39mcpn, facecolor\u001b[38;5;241m=\u001b[39mfacecolor)\n\u001b[1;32m    826\u001b[0m \u001b[38;5;28;01mif\u001b[39;00m save_to \u001b[38;5;129;01mis\u001b[39;00m \u001b[38;5;129;01mnot\u001b[39;00m \u001b[38;5;28;01mNone\u001b[39;00m:\n\u001b[0;32m--> 827\u001b[0m     \u001b[43mfig\u001b[49m\u001b[38;5;241;43m.\u001b[39;49m\u001b[43msavefig\u001b[49m\u001b[43m(\u001b[49m\u001b[43msave_to\u001b[49m\u001b[43m,\u001b[49m\u001b[43m \u001b[49m\u001b[43mfacecolor\u001b[49m\u001b[38;5;241;43m=\u001b[39;49m\u001b[38;5;124;43m'\u001b[39;49m\u001b[38;5;124;43mw\u001b[39;49m\u001b[38;5;124;43m'\u001b[39;49m\u001b[43m \u001b[49m\u001b[38;5;28;43;01mif\u001b[39;49;00m\u001b[43m \u001b[49m\u001b[43mfacecolor\u001b[49m\u001b[43m \u001b[49m\u001b[38;5;129;43;01mis\u001b[39;49;00m\u001b[43m \u001b[49m\u001b[38;5;28;43;01mNone\u001b[39;49;00m\u001b[43m \u001b[49m\u001b[38;5;28;43;01melse\u001b[39;49;00m\u001b[43m \u001b[49m\u001b[43mfacecolor\u001b[49m\u001b[43m,\u001b[49m\u001b[43m  \u001b[49m\u001b[43mbbox_inches\u001b[49m\u001b[38;5;241;43m=\u001b[39;49m\u001b[38;5;124;43m'\u001b[39;49m\u001b[38;5;124;43mtight\u001b[39;49m\u001b[38;5;124;43m'\u001b[39;49m\u001b[43m)\u001b[49m\n",
      "File \u001b[0;32m~/miniconda3/lib/python3.10/site-packages/matplotlib/figure.py:3390\u001b[0m, in \u001b[0;36mFigure.savefig\u001b[0;34m(self, fname, transparent, **kwargs)\u001b[0m\n\u001b[1;32m   3388\u001b[0m     \u001b[38;5;28;01mfor\u001b[39;00m ax \u001b[38;5;129;01min\u001b[39;00m \u001b[38;5;28mself\u001b[39m\u001b[38;5;241m.\u001b[39maxes:\n\u001b[1;32m   3389\u001b[0m         _recursively_make_axes_transparent(stack, ax)\n\u001b[0;32m-> 3390\u001b[0m \u001b[38;5;28;43mself\u001b[39;49m\u001b[38;5;241;43m.\u001b[39;49m\u001b[43mcanvas\u001b[49m\u001b[38;5;241;43m.\u001b[39;49m\u001b[43mprint_figure\u001b[49m\u001b[43m(\u001b[49m\u001b[43mfname\u001b[49m\u001b[43m,\u001b[49m\u001b[43m \u001b[49m\u001b[38;5;241;43m*\u001b[39;49m\u001b[38;5;241;43m*\u001b[39;49m\u001b[43mkwargs\u001b[49m\u001b[43m)\u001b[49m\n",
      "File \u001b[0;32m~/miniconda3/lib/python3.10/site-packages/matplotlib/backend_bases.py:2187\u001b[0m, in \u001b[0;36mFigureCanvasBase.print_figure\u001b[0;34m(self, filename, dpi, facecolor, edgecolor, orientation, format, bbox_inches, pad_inches, bbox_extra_artists, backend, **kwargs)\u001b[0m\n\u001b[1;32m   2183\u001b[0m \u001b[38;5;28;01mtry\u001b[39;00m:\n\u001b[1;32m   2184\u001b[0m     \u001b[38;5;66;03m# _get_renderer may change the figure dpi (as vector formats\u001b[39;00m\n\u001b[1;32m   2185\u001b[0m     \u001b[38;5;66;03m# force the figure dpi to 72), so we need to set it again here.\u001b[39;00m\n\u001b[1;32m   2186\u001b[0m     \u001b[38;5;28;01mwith\u001b[39;00m cbook\u001b[38;5;241m.\u001b[39m_setattr_cm(\u001b[38;5;28mself\u001b[39m\u001b[38;5;241m.\u001b[39mfigure, dpi\u001b[38;5;241m=\u001b[39mdpi):\n\u001b[0;32m-> 2187\u001b[0m         result \u001b[38;5;241m=\u001b[39m \u001b[43mprint_method\u001b[49m\u001b[43m(\u001b[49m\n\u001b[1;32m   2188\u001b[0m \u001b[43m            \u001b[49m\u001b[43mfilename\u001b[49m\u001b[43m,\u001b[49m\n\u001b[1;32m   2189\u001b[0m \u001b[43m            \u001b[49m\u001b[43mfacecolor\u001b[49m\u001b[38;5;241;43m=\u001b[39;49m\u001b[43mfacecolor\u001b[49m\u001b[43m,\u001b[49m\n\u001b[1;32m   2190\u001b[0m \u001b[43m            \u001b[49m\u001b[43medgecolor\u001b[49m\u001b[38;5;241;43m=\u001b[39;49m\u001b[43medgecolor\u001b[49m\u001b[43m,\u001b[49m\n\u001b[1;32m   2191\u001b[0m \u001b[43m            \u001b[49m\u001b[43morientation\u001b[49m\u001b[38;5;241;43m=\u001b[39;49m\u001b[43morientation\u001b[49m\u001b[43m,\u001b[49m\n\u001b[1;32m   2192\u001b[0m \u001b[43m            \u001b[49m\u001b[43mbbox_inches_restore\u001b[49m\u001b[38;5;241;43m=\u001b[39;49m\u001b[43m_bbox_inches_restore\u001b[49m\u001b[43m,\u001b[49m\n\u001b[1;32m   2193\u001b[0m \u001b[43m            \u001b[49m\u001b[38;5;241;43m*\u001b[39;49m\u001b[38;5;241;43m*\u001b[39;49m\u001b[43mkwargs\u001b[49m\u001b[43m)\u001b[49m\n\u001b[1;32m   2194\u001b[0m \u001b[38;5;28;01mfinally\u001b[39;00m:\n\u001b[1;32m   2195\u001b[0m     \u001b[38;5;28;01mif\u001b[39;00m bbox_inches \u001b[38;5;129;01mand\u001b[39;00m restore_bbox:\n",
      "File \u001b[0;32m~/miniconda3/lib/python3.10/site-packages/matplotlib/backend_bases.py:2043\u001b[0m, in \u001b[0;36mFigureCanvasBase._switch_canvas_and_return_print_method.<locals>.<lambda>\u001b[0;34m(*args, **kwargs)\u001b[0m\n\u001b[1;32m   2039\u001b[0m     optional_kws \u001b[38;5;241m=\u001b[39m {  \u001b[38;5;66;03m# Passed by print_figure for other renderers.\u001b[39;00m\n\u001b[1;32m   2040\u001b[0m         \u001b[38;5;124m\"\u001b[39m\u001b[38;5;124mdpi\u001b[39m\u001b[38;5;124m\"\u001b[39m, \u001b[38;5;124m\"\u001b[39m\u001b[38;5;124mfacecolor\u001b[39m\u001b[38;5;124m\"\u001b[39m, \u001b[38;5;124m\"\u001b[39m\u001b[38;5;124medgecolor\u001b[39m\u001b[38;5;124m\"\u001b[39m, \u001b[38;5;124m\"\u001b[39m\u001b[38;5;124morientation\u001b[39m\u001b[38;5;124m\"\u001b[39m,\n\u001b[1;32m   2041\u001b[0m         \u001b[38;5;124m\"\u001b[39m\u001b[38;5;124mbbox_inches_restore\u001b[39m\u001b[38;5;124m\"\u001b[39m}\n\u001b[1;32m   2042\u001b[0m     skip \u001b[38;5;241m=\u001b[39m optional_kws \u001b[38;5;241m-\u001b[39m {\u001b[38;5;241m*\u001b[39minspect\u001b[38;5;241m.\u001b[39msignature(meth)\u001b[38;5;241m.\u001b[39mparameters}\n\u001b[0;32m-> 2043\u001b[0m     print_method \u001b[38;5;241m=\u001b[39m functools\u001b[38;5;241m.\u001b[39mwraps(meth)(\u001b[38;5;28;01mlambda\u001b[39;00m \u001b[38;5;241m*\u001b[39margs, \u001b[38;5;241m*\u001b[39m\u001b[38;5;241m*\u001b[39mkwargs: \u001b[43mmeth\u001b[49m\u001b[43m(\u001b[49m\n\u001b[1;32m   2044\u001b[0m \u001b[43m        \u001b[49m\u001b[38;5;241;43m*\u001b[39;49m\u001b[43margs\u001b[49m\u001b[43m,\u001b[49m\u001b[43m \u001b[49m\u001b[38;5;241;43m*\u001b[39;49m\u001b[38;5;241;43m*\u001b[39;49m\u001b[43m{\u001b[49m\u001b[43mk\u001b[49m\u001b[43m:\u001b[49m\u001b[43m \u001b[49m\u001b[43mv\u001b[49m\u001b[43m \u001b[49m\u001b[38;5;28;43;01mfor\u001b[39;49;00m\u001b[43m \u001b[49m\u001b[43mk\u001b[49m\u001b[43m,\u001b[49m\u001b[43m \u001b[49m\u001b[43mv\u001b[49m\u001b[43m \u001b[49m\u001b[38;5;129;43;01min\u001b[39;49;00m\u001b[43m \u001b[49m\u001b[43mkwargs\u001b[49m\u001b[38;5;241;43m.\u001b[39;49m\u001b[43mitems\u001b[49m\u001b[43m(\u001b[49m\u001b[43m)\u001b[49m\u001b[43m \u001b[49m\u001b[38;5;28;43;01mif\u001b[39;49;00m\u001b[43m \u001b[49m\u001b[43mk\u001b[49m\u001b[43m \u001b[49m\u001b[38;5;129;43;01mnot\u001b[39;49;00m\u001b[43m \u001b[49m\u001b[38;5;129;43;01min\u001b[39;49;00m\u001b[43m \u001b[49m\u001b[43mskip\u001b[49m\u001b[43m}\u001b[49m\u001b[43m)\u001b[49m)\n\u001b[1;32m   2045\u001b[0m \u001b[38;5;28;01melse\u001b[39;00m:  \u001b[38;5;66;03m# Let third-parties do as they see fit.\u001b[39;00m\n\u001b[1;32m   2046\u001b[0m     print_method \u001b[38;5;241m=\u001b[39m meth\n",
      "File \u001b[0;32m~/miniconda3/lib/python3.10/site-packages/matplotlib/backends/backend_agg.py:497\u001b[0m, in \u001b[0;36mFigureCanvasAgg.print_png\u001b[0;34m(self, filename_or_obj, metadata, pil_kwargs)\u001b[0m\n\u001b[1;32m    450\u001b[0m \u001b[38;5;28;01mdef\u001b[39;00m \u001b[38;5;21mprint_png\u001b[39m(\u001b[38;5;28mself\u001b[39m, filename_or_obj, \u001b[38;5;241m*\u001b[39m, metadata\u001b[38;5;241m=\u001b[39m\u001b[38;5;28;01mNone\u001b[39;00m, pil_kwargs\u001b[38;5;241m=\u001b[39m\u001b[38;5;28;01mNone\u001b[39;00m):\n\u001b[1;32m    451\u001b[0m \u001b[38;5;250m    \u001b[39m\u001b[38;5;124;03m\"\"\"\u001b[39;00m\n\u001b[1;32m    452\u001b[0m \u001b[38;5;124;03m    Write the figure to a PNG file.\u001b[39;00m\n\u001b[1;32m    453\u001b[0m \n\u001b[0;32m   (...)\u001b[0m\n\u001b[1;32m    495\u001b[0m \u001b[38;5;124;03m        *metadata*, including the default 'Software' key.\u001b[39;00m\n\u001b[1;32m    496\u001b[0m \u001b[38;5;124;03m    \"\"\"\u001b[39;00m\n\u001b[0;32m--> 497\u001b[0m     \u001b[38;5;28;43mself\u001b[39;49m\u001b[38;5;241;43m.\u001b[39;49m\u001b[43m_print_pil\u001b[49m\u001b[43m(\u001b[49m\u001b[43mfilename_or_obj\u001b[49m\u001b[43m,\u001b[49m\u001b[43m \u001b[49m\u001b[38;5;124;43m\"\u001b[39;49m\u001b[38;5;124;43mpng\u001b[39;49m\u001b[38;5;124;43m\"\u001b[39;49m\u001b[43m,\u001b[49m\u001b[43m \u001b[49m\u001b[43mpil_kwargs\u001b[49m\u001b[43m,\u001b[49m\u001b[43m \u001b[49m\u001b[43mmetadata\u001b[49m\u001b[43m)\u001b[49m\n",
      "File \u001b[0;32m~/miniconda3/lib/python3.10/site-packages/matplotlib/backends/backend_agg.py:446\u001b[0m, in \u001b[0;36mFigureCanvasAgg._print_pil\u001b[0;34m(self, filename_or_obj, fmt, pil_kwargs, metadata)\u001b[0m\n\u001b[1;32m    441\u001b[0m \u001b[38;5;250m\u001b[39m\u001b[38;5;124;03m\"\"\"\u001b[39;00m\n\u001b[1;32m    442\u001b[0m \u001b[38;5;124;03mDraw the canvas, then save it using `.image.imsave` (to which\u001b[39;00m\n\u001b[1;32m    443\u001b[0m \u001b[38;5;124;03m*pil_kwargs* and *metadata* are forwarded).\u001b[39;00m\n\u001b[1;32m    444\u001b[0m \u001b[38;5;124;03m\"\"\"\u001b[39;00m\n\u001b[1;32m    445\u001b[0m FigureCanvasAgg\u001b[38;5;241m.\u001b[39mdraw(\u001b[38;5;28mself\u001b[39m)\n\u001b[0;32m--> 446\u001b[0m \u001b[43mmpl\u001b[49m\u001b[38;5;241;43m.\u001b[39;49m\u001b[43mimage\u001b[49m\u001b[38;5;241;43m.\u001b[39;49m\u001b[43mimsave\u001b[49m\u001b[43m(\u001b[49m\n\u001b[1;32m    447\u001b[0m \u001b[43m    \u001b[49m\u001b[43mfilename_or_obj\u001b[49m\u001b[43m,\u001b[49m\u001b[43m \u001b[49m\u001b[38;5;28;43mself\u001b[39;49m\u001b[38;5;241;43m.\u001b[39;49m\u001b[43mbuffer_rgba\u001b[49m\u001b[43m(\u001b[49m\u001b[43m)\u001b[49m\u001b[43m,\u001b[49m\u001b[43m \u001b[49m\u001b[38;5;28;43mformat\u001b[39;49m\u001b[38;5;241;43m=\u001b[39;49m\u001b[43mfmt\u001b[49m\u001b[43m,\u001b[49m\u001b[43m \u001b[49m\u001b[43morigin\u001b[49m\u001b[38;5;241;43m=\u001b[39;49m\u001b[38;5;124;43m\"\u001b[39;49m\u001b[38;5;124;43mupper\u001b[39;49m\u001b[38;5;124;43m\"\u001b[39;49m\u001b[43m,\u001b[49m\n\u001b[1;32m    448\u001b[0m \u001b[43m    \u001b[49m\u001b[43mdpi\u001b[49m\u001b[38;5;241;43m=\u001b[39;49m\u001b[38;5;28;43mself\u001b[39;49m\u001b[38;5;241;43m.\u001b[39;49m\u001b[43mfigure\u001b[49m\u001b[38;5;241;43m.\u001b[39;49m\u001b[43mdpi\u001b[49m\u001b[43m,\u001b[49m\u001b[43m \u001b[49m\u001b[43mmetadata\u001b[49m\u001b[38;5;241;43m=\u001b[39;49m\u001b[43mmetadata\u001b[49m\u001b[43m,\u001b[49m\u001b[43m \u001b[49m\u001b[43mpil_kwargs\u001b[49m\u001b[38;5;241;43m=\u001b[39;49m\u001b[43mpil_kwargs\u001b[49m\u001b[43m)\u001b[49m\n",
      "File \u001b[0;32m~/miniconda3/lib/python3.10/site-packages/matplotlib/image.py:1656\u001b[0m, in \u001b[0;36mimsave\u001b[0;34m(fname, arr, vmin, vmax, cmap, format, origin, dpi, metadata, pil_kwargs)\u001b[0m\n\u001b[1;32m   1654\u001b[0m pil_kwargs\u001b[38;5;241m.\u001b[39msetdefault(\u001b[38;5;124m\"\u001b[39m\u001b[38;5;124mformat\u001b[39m\u001b[38;5;124m\"\u001b[39m, \u001b[38;5;28mformat\u001b[39m)\n\u001b[1;32m   1655\u001b[0m pil_kwargs\u001b[38;5;241m.\u001b[39msetdefault(\u001b[38;5;124m\"\u001b[39m\u001b[38;5;124mdpi\u001b[39m\u001b[38;5;124m\"\u001b[39m, (dpi, dpi))\n\u001b[0;32m-> 1656\u001b[0m \u001b[43mimage\u001b[49m\u001b[38;5;241;43m.\u001b[39;49m\u001b[43msave\u001b[49m\u001b[43m(\u001b[49m\u001b[43mfname\u001b[49m\u001b[43m,\u001b[49m\u001b[43m \u001b[49m\u001b[38;5;241;43m*\u001b[39;49m\u001b[38;5;241;43m*\u001b[39;49m\u001b[43mpil_kwargs\u001b[49m\u001b[43m)\u001b[49m\n",
      "File \u001b[0;32m~/miniconda3/lib/python3.10/site-packages/PIL/Image.py:2429\u001b[0m, in \u001b[0;36mImage.save\u001b[0;34m(self, fp, format, **params)\u001b[0m\n\u001b[1;32m   2427\u001b[0m         fp \u001b[38;5;241m=\u001b[39m builtins\u001b[38;5;241m.\u001b[39mopen(filename, \u001b[38;5;124m\"\u001b[39m\u001b[38;5;124mr+b\u001b[39m\u001b[38;5;124m\"\u001b[39m)\n\u001b[1;32m   2428\u001b[0m     \u001b[38;5;28;01melse\u001b[39;00m:\n\u001b[0;32m-> 2429\u001b[0m         fp \u001b[38;5;241m=\u001b[39m \u001b[43mbuiltins\u001b[49m\u001b[38;5;241;43m.\u001b[39;49m\u001b[43mopen\u001b[49m\u001b[43m(\u001b[49m\u001b[43mfilename\u001b[49m\u001b[43m,\u001b[49m\u001b[43m \u001b[49m\u001b[38;5;124;43m\"\u001b[39;49m\u001b[38;5;124;43mw+b\u001b[39;49m\u001b[38;5;124;43m\"\u001b[39;49m\u001b[43m)\u001b[49m\n\u001b[1;32m   2431\u001b[0m \u001b[38;5;28;01mtry\u001b[39;00m:\n\u001b[1;32m   2432\u001b[0m     save_handler(\u001b[38;5;28mself\u001b[39m, fp, filename)\n",
      "\u001b[0;31mFileNotFoundError\u001b[0m: [Errno 2] No such file or directory: 'figures/galacticity-dev/bayes_prob.png'"
     ]
    }
   ],
   "source": [
    "show(f\"\"\"# BCU & UNK\n",
    "Can we learn anything about gevatar association probability?\"\"\")\n",
    "def bayes_prob(data):\n",
    "    fig, ax = plt.subplots(figsize=(6,3))\n",
    "    sns.histplot(data,ax=ax, x='bayes_prob', hue='class1', \n",
    "                 hue_order='bcu unk'.split(), bins=50, element='step',\n",
    "                palette='red cyan'.split(), alpha=0.5)\n",
    "    sns.move_legend(ax, loc='upper left', fontsize=12)\n",
    "    ax.set(xlim=(0,1), xlabel='bayes_prob')\n",
    "    return fig\n",
    "show_fig(bayes_prob, all_data, facecolor='k', save_to='figures/galacticity-dev/bayes_prob.png')"
   ]
  },
  {
   "cell_type": "code",
   "execution_count": null,
   "id": "84f9cba8-5fed-49d8-a28c-b384b40d3db3",
   "metadata": {},
   "outputs": [],
   "source": [
    "def bcu_unk(self, data):\n",
    "    cuts =   [ ' bayes_prob<0.5 & d>0.3 & Ep<10','bayes_prob>=0.5',  ]\n",
    "    titles = ['LR in corner', 'Bayes + confirmed']\n",
    "    fig = plt.figure(layout='constrained', figsize=(20,8))\n",
    "    subfigs = fig.subfigures(1, 2, wspace=0.07)\n",
    "    for  cut, subfig, title in zip(cuts, subfigs,titles):\n",
    "         galfunc.multiplot( data, cut, title+f' ({len(data.query(cut))})', fig=subfig)      \n",
    "\n",
    "    fig.suptitle( 'BCU+UNK: Compare association methods', x=0, ha='left')\n",
    "    return fig\n",
    "\n",
    "show_fig(bcu_unk, galfunc, all_data.query('association_class==\"bcu_unk\"'), \n",
    "         facecolor='k', save_to='figures/galacticity-dev/BCU+UNK.png')    "
   ]
  },
  {
   "cell_type": "code",
   "execution_count": null,
   "id": "9d8b0bb1-1bf0-4f95-9831-414515fc0e19",
   "metadata": {},
   "outputs": [],
   "source": [
    "show(f\"\"\"## Which catalogs are used for associations?\n",
    "Study the ASSOC1 catalog id\"\"\")\n",
    "def first_tok(s):\n",
    "    t = s.strip() \n",
    "    if len(t)==0: return ''\n",
    "    return t.split()[0]\n",
    "all_data['assoc_cat'] = all_data.assoc1.apply(first_tok)\n",
    "unk=all_data.groupby('class1').get_group('unk').copy()\n",
    "bcu=all_data.groupby('class1').get_group('bcu').copy()\n",
    "\n",
    "show(f\"\"\"* all_data: {len(all_data)} total\"\"\")\n",
    "t = np.unique(all_data.assoc_cat,return_counts=True)\n",
    "show( pd.Series(dict( (k,v) for k,v in zip(*t)),name='') .sort_values(ascending=False))\n",
    "# all_data.assoc_cat\n",
    "\n",
    "t = np.unique(all_data.query('association_class==\"bcu_unk\" & assoc_prob<0.8').assoc_cat,return_counts=True)\n",
    "show(f\"\"\"* bcu & unk, {sum(t[1])} total\"\"\")\n",
    "show((t:=pd.Series(dict( (k,v) for k,v in zip(*t)),name='')) .sort_values(ascending=False))"
   ]
  },
  {
   "cell_type": "code",
   "execution_count": null,
   "id": "23d5964b-ac00-4028-9137-180b8abdaa25",
   "metadata": {},
   "outputs": [],
   "source": [
    "show(f\"\"\"## Follow-up of the NULL Bayes probability guys\n",
    "From the [4FGL paper](https://iopscience.iop.org/article/10.3847/1538-4365/ab6bcb):\n",
    ">The false-association rate is difficult to estimate for the new associations resulting from these follow-up observations, preventing them from being treated on the same footing as those obtained as described above. The most recent Radio Fundamental Catalog96 (RFC) includes many new entries that came from dedicated follow-up observations. Applying the Bayesian method to the whole catalog and retaining associations with P ≥ 0.8, the association probability attached to the recent additions (181 sources) are reported as NULL to distinguish them from the others.\"\"\")\n",
    "tt = dr4[pd.isna(dr4.assoc_prob)]\n",
    "show(f\"\"\" The 4FGL-DR4 catalog has {len(tt)} NULL entries, in the classes,\"\"\")\n",
    "show(pd.Series(tt.groupby('class1').size().sort_values(ascending=False), name='NULL Bayes'))\n",
    "\n",
    "show(f\"\"\"In this subset there are {sum(all_data.bayes_prob==0.5)}, in the classes, \"\"\")\n",
    "show(pd.Series(all_data[all_data.bayes_prob==0.5].groupby('class1').size().sort_values(ascending=False),\n",
    "              name='NULL Bayes'))\n",
    "show(f\"\"\"The associated catalog for the subset, and our bcu's:\"\"\")\n",
    "show(pd.Series(all_data[all_data.bayes_prob==0.5].groupby('assoc_cat').size().sort_values(ascending=False),\n",
    "              name='NaN Bayes'))\n",
    "show(pd.Series(all_data[(all_data.bayes_prob==0.5) & (all_data.class1=='bcu')].groupby('assoc_cat').size().sort_values(ascending=False),\n",
    "              name='NaN Bayes'))"
   ]
  },
  {
   "cell_type": "code",
   "execution_count": null,
   "id": "868da43d-87bb-437e-b0cd-4850f9cbcdd1",
   "metadata": {},
   "outputs": [],
   "source": [
    "show(f\"\"\"* Generate a cvs file,`{(to_kent:='files/bcu_unk.csv')}` for Kent\"\"\")\n",
    "bcu_unk = all_data.groupby('association_class').get_group('bcu_unk'); len(bcu_unk)\n",
    "z = bcu_unk['class1 assoc_prob lr_prob assoc1 assoc_cat'.split()]\n",
    "z.to_csv(to_kent, float_format='%.3f')"
   ]
  },
  {
   "cell_type": "code",
   "execution_count": null,
   "id": "8f512703-50e3-4954-93c1-1dd24885c16f",
   "metadata": {},
   "outputs": [],
   "source": [
    "show(f\"\"\"### Check NVSS-associated subset\"\"\")\n",
    "u = all_data.query('assoc_cat==\"NVSS\"') \n",
    "show(f\"\"\"There are {len(u)} entries, with the following class1 sources\"\"\")\n",
    "show(pd.Series(u.groupby('class1').size(), name='sources'))\n",
    "\n",
    "fig, (ax1,ax2,ax3) = plt.subplots(1,3, figsize=(15,4))\n",
    "\n",
    "kws = dict( hue='class1', hue_order='bcu unk bll'.split(),palette=palette, )\n",
    "sns.histplot(u,ax=ax1, x=np.abs(u.glat) , **kws, #np.sin(u.glat)), \n",
    "            bins=np.arange(0,90.1,2), element='step', fill=False );\n",
    "ax1.set(xlabel=r'$|b|$', xlim=(0,90));\n",
    "\n",
    "sns.histplot(u,ax=ax2, x='G', **kws,\n",
    "            bins=np.arange(-1,2.001, 0.1), element='step', fill=False )\n",
    "ax2.set(xlabel=r'$G$', xlim=(-1,2));\n",
    "\n",
    "sns.kdeplot(u,ax=ax3, x='G', **kws,           )\n",
    "ax3.set(xlabel=r'$G$', xlim=(-1,2), ylabel='KDE density');\n",
    "show(fig)\n",
    "show(\"\"\"* unk, with $|b|<10$ selection, mostly young pulsars\n",
    "* Note how $G$ spreads out the $|b|<10$ selection.\n",
    "* bcu has large Galactic component\"\"\")\n"
   ]
  },
  {
   "cell_type": "code",
   "execution_count": null,
   "id": "0f6eb433-6293-4875-83a8-d3910e09546e",
   "metadata": {},
   "outputs": [],
   "source": [
    "show(f\"\"\"## Look at ASSOC_PROB_LR='LR prob'\"\"\")\n",
    "\n",
    "hkw = dict(x='lr_prob', bins=np.arange(0,1.001,0.02), element='step', edgecolor='w', color='cyan')\n",
    "\n",
    "fig, axx = plt.subplots(3,1, figsize=(6,6), sharex=True)\n",
    "sns.histplot(all_data, ax=axx[0], **hkw, label='all data' \n",
    "            ).set(yscale='log',xlim=(0,1))\n",
    "axx[0].legend(loc='upper center')\n",
    "for name, ax in zip('unk bcu'.split(), axx[1:]):\n",
    "    sns.histplot(all_data.query(f'class1==\"{name}\"'),ax=ax, **hkw, label=name,\n",
    "                ).set(xlim=(0,1))\n",
    "    ax.legend(loc='upper center')\n",
    "show(fig)\n",
    "show(\"\"\"* Suspicious shape for the unk category\"\"\")\n",
    "\n",
    "\n",
    "check = all_data.query('lr_prob>0.8 & (class1==\"unk\" | class1==\"bcu\")')\n",
    "check.hist('bayes_prob', bins=np.arange(0,1.001,0.02));\n",
    "plt.gca().set(title='bcu+unk, lr_prob>0.8', xlabel='bayes prob', xlim=(0,1));\n",
    "show(plt.gcf())\n"
   ]
  },
  {
   "cell_type": "code",
   "execution_count": null,
   "id": "8691e7b8-5761-48c2-b71a-f40b9851db0e",
   "metadata": {},
   "outputs": [],
   "source": [
    "show(f\"\"\" Which sources have assoc_prob==NaN, but non-zero lr_prob?\"\"\")\n",
    "check1 = all_data[pd.isna(all_data.assoc_prob) & (all_data.lr_prob>=0.01)]['class1 lr_prob assoc_prob'.split()]\n",
    "show(check1)\n",
    "\n",
    "show(f\"\"\"Source classes with ONLY LR association\"\"\")\n",
    "check1 = all_data[(all_data.assoc_prob<0.8) & (all_data.lr_prob>0.8)]['class1 lr_prob assoc_prob'.split()]\n",
    "show(pd.Series(check1.groupby('class1').size(), name='sources').sort_values(ascending=False))\n",
    "show(f\"\"\"Source classses with both associations\"\"\")\n",
    "check1 = all_data[(all_data.assoc_prob>.8) & (all_data.lr_prob>0.8)]['class1 lr_prob assoc_prob'.split()]\n",
    "show(pd.Series(check1.groupby('class1').size(), name='sources').sort_values(ascending=False))"
   ]
  },
  {
   "cell_type": "code",
   "execution_count": null,
   "id": "94d9ff1e-95cd-4087-86da-e08aa3fd63fa",
   "metadata": {},
   "outputs": [],
   "source": [
    "show(f\"\"\"# Look at the DR4 association file\"\"\")\n",
    "import os\n",
    "from astropy.io import fits\n",
    "from astropy.table import Table\n",
    "psc_flags= '/mnt/c/users/thbur/OneDrive/fermi/catalog/gll_pscP305uw1410_v4r2_assoc_v8r10p8_flags.fits'\n",
    "with fits.open(psc_flags) as hdus:\n",
    "    ptsrc = hdus[1].data\n",
    "    cat_ref = hdus[8].data\n",
    "    print(hdus.info())"
   ]
  },
  {
   "cell_type": "code",
   "execution_count": null,
   "id": "2f8071af-d340-465b-8a77-a937ad9f6406",
   "metadata": {},
   "outputs": [],
   "source": [
    "show(np.unique(ptsrc.ID_Number,return_counts=True))\n",
    "show(cat_ref.columns)"
   ]
  },
  {
   "cell_type": "code",
   "execution_count": null,
   "id": "0ba1e790-6c1d-4f88-8c40-90f033e245d5",
   "metadata": {},
   "outputs": [],
   "source": [
    "show(cat_ref)"
   ]
  },
  {
   "cell_type": "code",
   "execution_count": null,
   "id": "fbb6750e-7bae-4822-9d9e-6a2b3c7f0154",
   "metadata": {},
   "outputs": [],
   "source": [
    "ptsrc.columns"
   ]
  }
 ],
 "metadata": {
  "kernelspec": {
   "display_name": "Python 3 (ipykernel)",
   "language": "python",
   "name": "python3"
  },
  "language_info": {
   "codemirror_mode": {
    "name": "ipython",
    "version": 3
   },
   "file_extension": ".py",
   "mimetype": "text/x-python",
   "name": "python",
   "nbconvert_exporter": "python",
   "pygments_lexer": "ipython3",
   "version": "3.10.10"
  }
 },
 "nbformat": 4,
 "nbformat_minor": 5
}
